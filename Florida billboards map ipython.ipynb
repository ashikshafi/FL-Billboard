{
 "cells": [
  {
   "cell_type": "code",
   "execution_count": 2,
   "metadata": {},
   "outputs": [],
   "source": [
    "import pandas as pd\n",
    "import numpy as np\n",
    "\n",
    "import glob\n",
    "import re"
   ]
  },
  {
   "cell_type": "code",
   "execution_count": 3,
   "metadata": {},
   "outputs": [],
   "source": [
    "Data=pd.read_excel(\"/Users/ashikshafi/Downloads/floutdooradvertising.xlsx\", header=3)\n"
   ]
  },
  {
   "cell_type": "code",
   "execution_count": 4,
   "metadata": {},
   "outputs": [
    {
     "name": "stderr",
     "output_type": "stream",
     "text": [
      "/Users/ashikshafi/anaconda3/lib/python3.7/site-packages/pandas/core/indexing.py:189: SettingWithCopyWarning: \n",
      "A value is trying to be set on a copy of a slice from a DataFrame\n",
      "\n",
      "See the caveats in the documentation: http://pandas.pydata.org/pandas-docs/stable/indexing.html#indexing-view-versus-copy\n",
      "  self._setitem_with_indexer(indexer, value)\n"
     ]
    }
   ],
   "source": [
    "#Fixing Latitude columns\n",
    "Data.LATITUDE.loc[Data.LATITUDE.str.isalpha()==True]=np.nan\n",
    "Data[Data[\"LATITUDE\"]==1]=np.NaN\n",
    "\n",
    "\n",
    "Data.LATITUDE = Data.LATITUDE.apply(lambda x: str(x))\n",
    "\n",
    "Data.LATITUDE = Data.LATITUDE.apply(lambda x: float(x))\n"
   ]
  },
  {
   "cell_type": "code",
   "execution_count": 5,
   "metadata": {
    "scrolled": true
   },
   "outputs": [
    {
     "name": "stderr",
     "output_type": "stream",
     "text": [
      "/Users/ashikshafi/anaconda3/lib/python3.7/site-packages/pandas/core/indexing.py:189: SettingWithCopyWarning: \n",
      "A value is trying to be set on a copy of a slice from a DataFrame\n",
      "\n",
      "See the caveats in the documentation: http://pandas.pydata.org/pandas-docs/stable/indexing.html#indexing-view-versus-copy\n",
      "  self._setitem_with_indexer(indexer, value)\n"
     ]
    }
   ],
   "source": [
    "#Fixing Longitude column\n",
    "\n",
    "Data.LONGITUDE.loc[Data.LONGITUDE.str.isalpha()==True]=np.nan\n",
    "\n",
    "\n",
    "Data.LONGITUDE = Data.LONGITUDE.apply(lambda x: str(x))\n",
    "\n",
    "Data.LONGITUDE = Data.LONGITUDE.apply(lambda x: float(x))"
   ]
  },
  {
   "cell_type": "code",
   "execution_count": 6,
   "metadata": {},
   "outputs": [
    {
     "data": {
      "text/plain": [
       "count    1.747000e+04\n",
       "mean    -2.344464e+06\n",
       "std      1.377381e+08\n",
       "min     -8.145969e+09\n",
       "25%     -8.268306e+01\n",
       "50%     -8.196089e+01\n",
       "75%     -8.137719e+01\n",
       "max     -8.005301e+01\n",
       "Name: LONGITUDE, dtype: float64"
      ]
     },
     "execution_count": 6,
     "metadata": {},
     "output_type": "execute_result"
    }
   ],
   "source": [
    "(Data.LONGITUDE).describe()\n"
   ]
  },
  {
   "cell_type": "code",
   "execution_count": 7,
   "metadata": {},
   "outputs": [],
   "source": [
    "#Despite the errors, the programs ran nicely. "
   ]
  },
  {
   "cell_type": "code",
   "execution_count": 8,
   "metadata": {},
   "outputs": [
    {
     "data": {
      "text/plain": [
       "count    17470.000000\n",
       "mean        28.641841\n",
       "std          1.570618\n",
       "min        -30.877778\n",
       "25%         27.900244\n",
       "50%         28.571902\n",
       "75%         30.121892\n",
       "max         38.293572\n",
       "Name: LATITUDE, dtype: float64"
      ]
     },
     "execution_count": 8,
     "metadata": {},
     "output_type": "execute_result"
    }
   ],
   "source": [
    "(Data.LATITUDE).describe()"
   ]
  },
  {
   "cell_type": "code",
   "execution_count": 10,
   "metadata": {},
   "outputs": [],
   "source": [
    "#Now lets try to plot this data on a map to see where exactly in Florida the billboards are"
   ]
  },
  {
   "cell_type": "code",
   "execution_count": null,
   "metadata": {},
   "outputs": [],
   "source": []
  }
 ],
 "metadata": {
  "kernelspec": {
   "display_name": "Python 3",
   "language": "python",
   "name": "python3"
  },
  "language_info": {
   "codemirror_mode": {
    "name": "ipython",
    "version": 3
   },
   "file_extension": ".py",
   "mimetype": "text/x-python",
   "name": "python",
   "nbconvert_exporter": "python",
   "pygments_lexer": "ipython3",
   "version": "3.7.0"
  }
 },
 "nbformat": 4,
 "nbformat_minor": 2
}
